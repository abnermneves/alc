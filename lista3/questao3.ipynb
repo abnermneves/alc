{
 "cells": [
  {
   "cell_type": "code",
   "execution_count": 1,
   "metadata": {},
   "outputs": [],
   "source": [
    "import numpy as np"
   ]
  },
  {
   "cell_type": "code",
   "execution_count": 2,
   "metadata": {},
   "outputs": [],
   "source": [
    "#considerando as matérias como variáveis e os alunos como observações\n",
    "a = np.array([[90, 80, 60, 95],\n",
    "              [65, 75, 90, 70],\n",
    "              [40, 90, 60, 55],\n",
    "              [80, 60, 59, 75],\n",
    "              [60, 100, 80, 80]])\n"
   ]
  },
  {
   "cell_type": "code",
   "execution_count": 3,
   "metadata": {},
   "outputs": [],
   "source": [
    "#calcula as médias de cada variável, cada coluna\n",
    "mcol = np.mean(a, axis=0)\n",
    "\n",
    "#subtrai as médias de cada elemento\n",
    "a_centered = a - mcol"
   ]
  },
  {
   "cell_type": "code",
   "execution_count": 4,
   "metadata": {},
   "outputs": [],
   "source": [
    "#calcula e subtrai o desvio padrão de cada usuário\n",
    "desvpad = np.std(a, axis=1, ddof=1)\n",
    "\n",
    "a_normalized = (a_centered.T/desvpad).T"
   ]
  },
  {
   "cell_type": "code",
   "execution_count": 5,
   "metadata": {},
   "outputs": [
    {
     "data": {
      "text/plain": [
       "array([[ 1.39721884, -0.86873903, -0.55068842,  0.77572508],\n",
       "       [-0.86873903,  1.44414419,  0.38678594,  0.03010898],\n",
       "       [-0.55068842,  0.38678594,  1.38632906, -0.26166862],\n",
       "       [ 0.77572508,  0.03010898, -0.26166862,  0.72188838]])"
      ]
     },
     "execution_count": 5,
     "metadata": {},
     "output_type": "execute_result"
    }
   ],
   "source": [
    "#calcula a matriz 4x4 de covariância das variáveis \n",
    "m = a_normalized.shape[0]\n",
    "cov = a_normalized.T@a_normalized\n",
    "cov = cov/(m-1)\n",
    "cov"
   ]
  },
  {
   "cell_type": "code",
   "execution_count": null,
   "metadata": {},
   "outputs": [],
   "source": []
  },
  {
   "cell_type": "code",
   "execution_count": null,
   "metadata": {},
   "outputs": [],
   "source": []
  }
 ],
 "metadata": {
  "kernelspec": {
   "display_name": "Python 3",
   "language": "python",
   "name": "python3"
  },
  "language_info": {
   "codemirror_mode": {
    "name": "ipython",
    "version": 3
   },
   "file_extension": ".py",
   "mimetype": "text/x-python",
   "name": "python",
   "nbconvert_exporter": "python",
   "pygments_lexer": "ipython3",
   "version": "3.7.1"
  }
 },
 "nbformat": 4,
 "nbformat_minor": 2
}

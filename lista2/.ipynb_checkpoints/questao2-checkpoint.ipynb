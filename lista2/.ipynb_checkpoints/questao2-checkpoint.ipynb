{
 "cells": [
  {
   "cell_type": "code",
   "execution_count": 1,
   "metadata": {},
   "outputs": [],
   "source": [
    "import numpy as np"
   ]
  },
  {
   "cell_type": "code",
   "execution_count": 2,
   "metadata": {},
   "outputs": [],
   "source": [
    "a = np.array([[3, 4, 3, 1],\n",
    "              [1, 2, 5, 3],\n",
    "              [2, 0, 0, 4],\n",
    "              [1, 0, 0, 1],\n",
    "              [2, 4, 5, 3]])\n",
    "\n",
    "mc = np.array([1.8, 3.0, 4.0, 2.4])\n",
    "ml = np.array([-0.05, -0.05, 0.45, -1.05, 0.7])"
   ]
  },
  {
   "cell_type": "code",
   "execution_count": 3,
   "metadata": {},
   "outputs": [
    {
     "name": "stdout",
     "output_type": "stream",
     "text": [
      "B =  \n",
      " [[ 1.2  1.  -1.  -1.4]\n",
      " [-0.8 -1.   1.   0.6]\n",
      " [ 0.2 -3.  -4.   1.6]\n",
      " [-0.8 -3.  -4.  -1.4]\n",
      " [ 0.2  1.   1.   0.6]]\n",
      "\n",
      "* os elementos b21, b22, b31 e b32 devem ser ignorados\n"
     ]
    }
   ],
   "source": [
    "#subtraindo as médias de cada coluna\n",
    "\n",
    "b = a - mc\n",
    "print(\"B = \", '\\n', b)\n",
    "print(\"\\n* os elementos b21, b22, b31 e b32 devem ser ignorados\")"
   ]
  },
  {
   "cell_type": "code",
   "execution_count": 4,
   "metadata": {},
   "outputs": [
    {
     "name": "stdout",
     "output_type": "stream",
     "text": [
      "C =  \n",
      " [[ 1.25  1.05 -0.95 -1.35]\n",
      " [-0.75 -0.95  1.05  0.65]\n",
      " [-0.25 -3.45 -4.45  1.15]\n",
      " [ 0.25 -1.95 -2.95 -0.35]\n",
      " [-0.5   0.3   0.3  -0.1 ]]\n",
      "\n",
      "* os elementos c21, c22, c31 e c32 devem ser ignorados\n"
     ]
    }
   ],
   "source": [
    "#subtraindo as médias de cada linha\n",
    "\n",
    "ct = b.T - ml\n",
    "print(\"C = \", '\\n', ct.T)\n",
    "print(\"\\n* os elementos c21, c22, c31 e c32 devem ser ignorados\")"
   ]
  },
  {
   "cell_type": "code",
   "execution_count": 26,
   "metadata": {},
   "outputs": [
    {
     "name": "stdout",
     "output_type": "stream",
     "text": [
      "[[ 1.185978  1.112676 -1.203768 -1.099296]\n",
      " [-0.821568 -0.904431  0.883608  0.844701]\n",
      " [-0.2172   -1.47885   0.6948    0.99495 ]\n",
      " [ 0.374547  0.959139 -0.606252 -0.725439]]\n"
     ]
    }
   ],
   "source": [
    "#reconstruindo C pelo seu SVD truncado com k = 2\n",
    "\n",
    "U = np.array([[-0.62, -0.42],\n",
    "              [0.47, 0.22],\n",
    "              [0.5, -0.6],\n",
    "              [-0.38, 0.19]])\n",
    "\n",
    "s = np.array([[3.63, 0],\n",
    "              [0, 1.05]])\n",
    "\n",
    "Vt = np.array([[-0.38, -0.61, 0.48, 0.51],\n",
    "               [-0.75, 0.59, 0.28, -0.11]])\n",
    "ck = U@s@Vt\n",
    "print(ck)"
   ]
  },
  {
   "cell_type": "code",
   "execution_count": 36,
   "metadata": {},
   "outputs": [
    {
     "data": {
      "text/plain": [
       "array([[ 2.835978,  3.962676,  2.646232,  1.150704],\n",
       "       [ 0.828432,  1.945569,  4.733608,  3.094701],\n",
       "       [ 2.9328  ,  2.87115 ,  6.0448  ,  4.74495 ],\n",
       "       [-0.975453,  0.809139,  0.243748, -1.475439]])"
      ]
     },
     "execution_count": 36,
     "metadata": {},
     "output_type": "execute_result"
    }
   ],
   "source": [
    "#readicionando as médias que foram retiradas\n",
    "\n",
    "bk = (ck.T + ml[:4]).T\n",
    "ak = bk + mc\n",
    "ak"
   ]
  },
  {
   "cell_type": "code",
   "execution_count": null,
   "metadata": {},
   "outputs": [],
   "source": []
  }
 ],
 "metadata": {
  "kernelspec": {
   "display_name": "Python 3",
   "language": "python",
   "name": "python3"
  },
  "language_info": {
   "codemirror_mode": {
    "name": "ipython",
    "version": 3
   },
   "file_extension": ".py",
   "mimetype": "text/x-python",
   "name": "python",
   "nbconvert_exporter": "python",
   "pygments_lexer": "ipython3",
   "version": "3.7.1"
  }
 },
 "nbformat": 4,
 "nbformat_minor": 2
}

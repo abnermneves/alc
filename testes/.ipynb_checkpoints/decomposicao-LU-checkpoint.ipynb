{
 "cells": [
  {
   "cell_type": "code",
   "execution_count": 1,
   "metadata": {},
   "outputs": [],
   "source": [
    "import numpy as np"
   ]
  },
  {
   "cell_type": "code",
   "execution_count": 11,
   "metadata": {},
   "outputs": [
    {
     "name": "stdout",
     "output_type": "stream",
     "text": [
      "[[  1.          -2.           2.          -3.        ]\n",
      " [  0.          10.          -7.          10.        ]\n",
      " [  0.           0.          -1.3          4.        ]\n",
      " [  0.           0.           0.         -10.92307692]] \n",
      " [[1.         0.         0.         0.        ]\n",
      " [3.         1.         0.         0.        ]\n",
      " [2.         0.1        1.         0.        ]\n",
      " [1.         0.3        2.23076923 1.        ]]\n",
      "[[ 1. -2.  2. -3.]\n",
      " [ 3.  4. -1.  1.]\n",
      " [ 2. -3.  2. -1.]\n",
      " [ 1.  1. -3. -2.]]\n"
     ]
    }
   ],
   "source": [
    "a = np.array([[1., -2., 2., -3.],\n",
    "              [3., 4., -1., 1.],\n",
    "              [2., -3., 2., -1.],\n",
    "              [1., 1., -3., -2.]])\n",
    "\n",
    "b = np.array([15., -6., 17., -7.])\n",
    "\n",
    "n = a.shape[0]\n",
    "U = a\n",
    "L = np.eye(n)\n",
    "\n",
    "\n",
    "for k in range(n-1):\n",
    "    for i in range(k+1, n):\n",
    "        m = U[i,k]/U[k,k]\n",
    "        L[i,k] = m\n",
    "        for j in range(k+1, n):\n",
    "             U[i,j] = U[i,j]-U[k,j]*m\n",
    "\n",
    "U = np.triu(U)\n",
    "print(U, '\\n', L)\n",
    "print(L@U)"
   ]
  },
  {
   "cell_type": "code",
   "execution_count": null,
   "metadata": {},
   "outputs": [],
   "source": []
  }
 ],
 "metadata": {
  "kernelspec": {
   "display_name": "Python 3",
   "language": "python",
   "name": "python3"
  },
  "language_info": {
   "codemirror_mode": {
    "name": "ipython",
    "version": 3
   },
   "file_extension": ".py",
   "mimetype": "text/x-python",
   "name": "python",
   "nbconvert_exporter": "python",
   "pygments_lexer": "ipython3",
   "version": "3.7.1"
  }
 },
 "nbformat": 4,
 "nbformat_minor": 2
}

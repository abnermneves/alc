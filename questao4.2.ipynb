{
 "cells": [
  {
   "cell_type": "code",
   "execution_count": 1,
   "metadata": {},
   "outputs": [],
   "source": [
    "import numpy as np\n",
    "import scipy.linalg"
   ]
  },
  {
   "cell_type": "code",
   "execution_count": 2,
   "metadata": {},
   "outputs": [],
   "source": [
    "#que eu fiz em outro exercício\n",
    "#mas parece que não tá tão certo assim\n",
    "\n",
    "def LUcerto(a):\n",
    "    n = a.shape[0]\n",
    "    U = a\n",
    "    L = np.eye(n)\n",
    "\n",
    "    for k in range(n-1):\n",
    "        for i in range(k+1, n):\n",
    "            m = U[i,k]/U[k,k]\n",
    "            L[i,k] = m\n",
    "            for j in range(k+1, n):\n",
    "                 U[i,j] = U[i,j]-U[k,j]*m\n",
    "\n",
    "    U = np.triu(U)\n",
    "\n",
    "    return L, U"
   ]
  },
  {
   "cell_type": "code",
   "execution_count": 25,
   "metadata": {},
   "outputs": [],
   "source": [
    "#original, oriunda da questao\n",
    "\n",
    "def LU(A):\n",
    "    U = np.copy(A)\n",
    "    m, n = A.shape\n",
    "    L = np.eye(n)\n",
    "    for k in range(n-1):\n",
    "        for j in range(k+1, n):\n",
    "            L[j,k] = U[j,k]/U[k,k]\n",
    "            U[j,k+1:n] -= L[j,k]*U[k,k+1:n]\n",
    "            \n",
    "    return L, U"
   ]
  },
  {
   "cell_type": "code",
   "execution_count": 34,
   "metadata": {},
   "outputs": [],
   "source": [
    "def LUin(A):\n",
    "    m, n = A.shape\n",
    "    for k in range(n-1):\n",
    "        for j in range(k+1, n):\n",
    "            A[j,k] = A[j,k]/A[k,k]\n",
    "            A[j,k+1:n] -= A[j,k]*A[k,k+1:n]\n",
    "            \n",
    "    return np.tril(A,k=-1)+np.eye(n), np.triu(A)"
   ]
  },
  {
   "cell_type": "code",
   "execution_count": 40,
   "metadata": {},
   "outputs": [
    {
     "name": "stdout",
     "output_type": "stream",
     "text": [
      "[[ True  True  True]\n",
      " [ True  True  True]\n",
      " [ True  True  True]]\n",
      "[[1.         0.         0.        ]\n",
      " [0.33333333 1.         0.        ]\n",
      " [1.33333333 1.         1.        ]]\n",
      "True\n",
      "False\n",
      "[[ 3.          2.          4.        ]\n",
      " [ 1.          0.33333333  0.66666667]\n",
      " [ 4.          0.33333333 -8.        ]]\n",
      "[[ 3.          2.          4.        ]\n",
      " [ 0.          0.33333333  0.66666667]\n",
      " [ 0.          0.         -8.        ]]\n",
      "[[ 3.          2.          4.        ]\n",
      " [ 0.          0.33333333  0.66666667]\n",
      " [ 0.          0.         -8.        ]]\n"
     ]
    }
   ],
   "source": [
    "a = np.array([[3., 2., 4.],\n",
    "              [1., 1., 2.],\n",
    "              [4., 3., -2.]])\n",
    "\n",
    "#a = np.random.random((5, 5))\n",
    "b = a.copy()\n",
    "c = a.copy()\n",
    "\n",
    "la, ua = LU(a)\n",
    "li, ui = LUin(b)\n",
    "lc, uc = LUcerto(c)\n",
    "\n",
    "print(la == li)\n",
    "#print(a)\n",
    "print(la)\n",
    "#print(la == lc)\n",
    "print(np.allclose(la, li))\n",
    "print(np.allclose(ua, ui))\n",
    "\n",
    "print(ua)\n",
    "print(ui)\n",
    "print(uc)\n",
    "\n",
    "#ll, uu = scipy.linalg.lu(a, permute_l=True)\n",
    "#print(ll)"
   ]
  },
  {
   "cell_type": "code",
   "execution_count": null,
   "metadata": {},
   "outputs": [],
   "source": []
  },
  {
   "cell_type": "code",
   "execution_count": null,
   "metadata": {},
   "outputs": [],
   "source": []
  }
 ],
 "metadata": {
  "kernelspec": {
   "display_name": "Python 3",
   "language": "python",
   "name": "python3"
  },
  "language_info": {
   "codemirror_mode": {
    "name": "ipython",
    "version": 3
   },
   "file_extension": ".py",
   "mimetype": "text/x-python",
   "name": "python",
   "nbconvert_exporter": "python",
   "pygments_lexer": "ipython3",
   "version": "3.7.1"
  }
 },
 "nbformat": 4,
 "nbformat_minor": 2
}

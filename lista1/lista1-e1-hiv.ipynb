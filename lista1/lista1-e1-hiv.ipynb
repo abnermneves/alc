{
 "cells": [
  {
   "cell_type": "code",
   "execution_count": 6,
   "metadata": {},
   "outputs": [],
   "source": [
    "import numpy as np"
   ]
  },
  {
   "cell_type": "code",
   "execution_count": 7,
   "metadata": {},
   "outputs": [],
   "source": [
    "v = np.array([0.85, 0.1, 0.05, 0.00])\n",
    "m = np.array([[0.9, 0.07, 0.02, 0.01],\n",
    "     [0, 0.93, 0.05, 0.02],\n",
    "     [0, 0, 0.85, 0.15],\n",
    "     [0, 0, 0, 1.00]])\n",
    "\n",
    "#print(m)"
   ]
  },
  {
   "cell_type": "code",
   "execution_count": 11,
   "metadata": {},
   "outputs": [],
   "source": [
    "#multiplicando 10 vezes\n",
    "\n",
    "for i in range(10):\n",
    "    v = v @ m\n",
    "    #print(v)"
   ]
  },
  {
   "cell_type": "code",
   "execution_count": 9,
   "metadata": {},
   "outputs": [
    {
     "name": "stdout",
     "output_type": "stream",
     "text": [
      "Então, a distribuição da população em 10 anos será:\n",
      " [0.29637667 0.3167509  0.1342175  0.25265492]\n"
     ]
    }
   ],
   "source": [
    "print(\"Então, a distribuição da população em 10 anos será:\\n\",v)"
   ]
  },
  {
   "cell_type": "code",
   "execution_count": null,
   "metadata": {},
   "outputs": [],
   "source": []
  }
 ],
 "metadata": {
  "kernelspec": {
   "display_name": "Python 3",
   "language": "python",
   "name": "python3"
  },
  "language_info": {
   "codemirror_mode": {
    "name": "ipython",
    "version": 3
   },
   "file_extension": ".py",
   "mimetype": "text/x-python",
   "name": "python",
   "nbconvert_exporter": "python",
   "pygments_lexer": "ipython3",
   "version": "3.5.2"
  }
 },
 "nbformat": 4,
 "nbformat_minor": 2
}

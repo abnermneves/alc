{
 "cells": [
  {
   "cell_type": "code",
   "execution_count": 1,
   "metadata": {},
   "outputs": [],
   "source": [
    "import numpy as np\n",
    "import math"
   ]
  },
  {
   "cell_type": "code",
   "execution_count": 17,
   "metadata": {},
   "outputs": [],
   "source": [
    "def funcao(m):\n",
    "    W = np.random.randn(m, 4)\n",
    "    nW = np.divide(W, math.sqrt(m))\n",
    "    Z = nW.T@nW\n",
    "    print(Z)\n",
    "    fro = np.linalg.norm(Z - np.eye(4), 'fro')\n",
    "    return fro"
   ]
  },
  {
   "cell_type": "code",
   "execution_count": 50,
   "metadata": {},
   "outputs": [
    {
     "name": "stdout",
     "output_type": "stream",
     "text": [
      "[[ 1.01186808e+00  1.29936257e-02 -2.32190711e-03 -4.74534003e-04]\n",
      " [ 1.29936257e-02  9.92605187e-01  5.34173523e-03  1.26787442e-02]\n",
      " [-2.32190711e-03  5.34173523e-03  9.78999433e-01  9.99613547e-04]\n",
      " [-4.74534003e-04  1.26787442e-02  9.99613547e-04  9.99886899e-01]]\n"
     ]
    },
    {
     "data": {
      "text/plain": [
       "0.0369599862484877"
      ]
     },
     "execution_count": 50,
     "metadata": {},
     "output_type": "execute_result"
    }
   ],
   "source": [
    "funcao(10000)"
   ]
  },
  {
   "cell_type": "code",
   "execution_count": null,
   "metadata": {},
   "outputs": [],
   "source": []
  },
  {
   "cell_type": "code",
   "execution_count": null,
   "metadata": {},
   "outputs": [],
   "source": []
  }
 ],
 "metadata": {
  "kernelspec": {
   "display_name": "Python 3",
   "language": "python",
   "name": "python3"
  },
  "language_info": {
   "codemirror_mode": {
    "name": "ipython",
    "version": 3
   },
   "file_extension": ".py",
   "mimetype": "text/x-python",
   "name": "python",
   "nbconvert_exporter": "python",
   "pygments_lexer": "ipython3",
   "version": "3.7.1"
  }
 },
 "nbformat": 4,
 "nbformat_minor": 2
}

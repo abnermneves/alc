{
 "cells": [
  {
   "cell_type": "code",
   "execution_count": 1,
   "metadata": {},
   "outputs": [],
   "source": [
    "import numpy as np"
   ]
  },
  {
   "cell_type": "code",
   "execution_count": 17,
   "metadata": {},
   "outputs": [
    {
     "name": "stdout",
     "output_type": "stream",
     "text": [
      "[[  1.          -2.           2.          -3.        ]\n",
      " [  0.          10.          -7.          10.        ]\n",
      " [  0.           0.          -1.3          4.        ]\n",
      " [  0.           0.           0.         -10.92307692]] [ 15.         -51.          -7.9         10.92307692]\n"
     ]
    }
   ],
   "source": [
    "a = np.array([[1., -2., 2., -3.],\n",
    "              [3., 4., -1., 1.],\n",
    "              [2., -3., 2., -1.],\n",
    "              [1., 1., -3., -2.]])\n",
    "\n",
    "b = np.array([15., -6., 17., -7.])\n",
    "\n",
    "n = a.shape[0]\n",
    "\n",
    "for k in range(n-1):\n",
    "    for i in range(k+1, n):\n",
    "        m = a[i,k]/a[k,k]\n",
    "        b[i] -= b[k]*m\n",
    "        for j in range(k+1, n):\n",
    "             a[i,j] -= a[k,j]*m\n",
    "a = np.triu(a)\n",
    "print(a, b)"
   ]
  },
  {
   "cell_type": "code",
   "execution_count": 18,
   "metadata": {},
   "outputs": [
    {
     "name": "stderr",
     "output_type": "stream",
     "text": [
      "/home/grad/ccomp/18/abnerneves/anaconda3/lib/python3.7/site-packages/ipykernel_launcher.py:1: FutureWarning: `rcond` parameter will change to the default of machine precision times ``max(M, N)`` where M and N are the input matrix dimensions.\n",
      "To use the future default and silence this warning we advise to pass `rcond=None`, to keep using the old, explicitly pass `rcond=-1`.\n",
      "  \"\"\"Entry point for launching an IPython kernel.\n"
     ]
    },
    {
     "data": {
      "text/plain": [
       "(array([ 2., -2.,  3., -1.]),\n",
       " array([], dtype=float64),\n",
       " 4,\n",
       " array([18.4738236 ,  7.78107889,  1.24273776,  0.79489953]))"
      ]
     },
     "execution_count": 18,
     "metadata": {},
     "output_type": "execute_result"
    }
   ],
   "source": [
    "np.linalg.lstsq(a,b)"
   ]
  },
  {
   "cell_type": "code",
   "execution_count": null,
   "metadata": {},
   "outputs": [],
   "source": []
  },
  {
   "cell_type": "code",
   "execution_count": null,
   "metadata": {},
   "outputs": [],
   "source": []
  }
 ],
 "metadata": {
  "kernelspec": {
   "display_name": "Python 3",
   "language": "python",
   "name": "python3"
  },
  "language_info": {
   "codemirror_mode": {
    "name": "ipython",
    "version": 3
   },
   "file_extension": ".py",
   "mimetype": "text/x-python",
   "name": "python",
   "nbconvert_exporter": "python",
   "pygments_lexer": "ipython3",
   "version": "3.7.1"
  }
 },
 "nbformat": 4,
 "nbformat_minor": 2
}
